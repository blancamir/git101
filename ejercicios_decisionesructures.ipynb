{
 "cells": [
  {
   "cell_type": "markdown",
   "metadata": {},
   "source": [
    "### Escribir un programa que resuelva la ecuacción de segundo grado con soluciones reales, comprobando que el discriminante sea positivo. En caso de que no lo sea, se informará al usuario que no se puede realizar la resolución\n"
   ]
  },
  {
   "cell_type": "code",
   "execution_count": 13,
   "metadata": {},
   "outputs": [
    {
     "name": "stdout",
     "output_type": "stream",
     "text": [
      "[]\n"
     ]
    }
   ],
   "source": [
    "# tu codigo aqui\n"
   ]
  },
  {
   "cell_type": "markdown",
   "metadata": {},
   "source": [
    "### Calcular la media de los valores de una lista. El usuario debe introducir datos numérios, y se le seguirá presentando el prompt hasta que la entrada sea un 0"
   ]
  },
  {
   "cell_type": "code",
   "execution_count": 1,
   "metadata": {},
   "outputs": [],
   "source": [
    "# tu codigo aqui\n"
   ]
  },
  {
   "cell_type": "markdown",
   "metadata": {},
   "source": [
    "### Escribir un programa en python que devuelva la palabra mas corta y mas larga de un string con una frase\n"
   ]
  },
  {
   "cell_type": "code",
   "execution_count": 2,
   "metadata": {},
   "outputs": [
    {
     "name": "stdin",
     "output_type": "stream",
     "text": [
      "introduce una secuencia de palabras separadas por espacios \n"
     ]
    },
    {
     "name": "stdout",
     "output_type": "stream",
     "text": [
      "el programa encontrará la palabra más corta y más larga \n",
      " \n"
     ]
    }
   ],
   "source": [
    "\n",
    "# tu codigo aqui\n",
    "\n",
    "original_string = input(\"introduce una secuencia de palabras separadas por espacios\")\n",
    "print(\"el programa encontrará la palabra más corta y más larga \\n \" )\n",
    "\n"
   ]
  },
  {
   "cell_type": "markdown",
   "metadata": {},
   "source": [
    "## Interactuando con listas\n",
    "\n",
    "From given list gadgets = [“Mobile”, “Laptop”, 100, “Camera”, 310.28, “Speakers”, 27.00,\n",
    "“Television”, 1000, “Laptop Case”, “Camera Lens”]\n",
    "\n",
    "a)create separate lists of strings and numbers.\n",
    " \n",
    "b)Sort the strings list in ascending order\n",
    " \n",
    "c)Sort the strings list in descending order\n",
    " \n",
    "d)Sort the number list from lowest to highest\n",
    " \n",
    "e)Sort the number list from highest to lowest"
   ]
  },
  {
   "cell_type": "code",
   "execution_count": 4,
   "metadata": {},
   "outputs": [],
   "source": [
    "\n",
    "#tu codigo aqui\n",
    "\n",
    "gadgets = [\"Mobile\", \"Laptop\", 100, \"Camera\", 310.28, \"Speakers\", 27.00, \n",
    "           \"Television\", 1000, \"Laptop Case\", \"Camera Lens\"]\n",
    " \n",
    "str_items = []\n",
    "num_items = []\n",
    " \n",
    "#a)creating separate lists\n",
    "\n",
    "\n",
    "#b)sorting strings list in ascending order, a-z'\n",
    "  \n",
    " \n",
    "#c) sorting strings list in descending order z-a')\n",
    "  \n",
    " \n",
    "#d)sorting number list from lowest to highest\n",
    " \n",
    " \n",
    "#e)sorting number list from highest to lowest\n",
    " \n"
   ]
  },
  {
   "cell_type": "markdown",
   "metadata": {},
   "source": [
    "# programar una ordenación de una lista utilizando el algoritmo bubble sort"
   ]
  },
  {
   "cell_type": "code",
   "execution_count": null,
   "metadata": {},
   "outputs": [],
   "source": [
    "#buscar en que consiste una busqueda buble sort\n",
    "\n",
    "# aqui será util usar una asignación simultanea\n"
   ]
  },
  {
   "cell_type": "markdown",
   "metadata": {},
   "source": [
    "\n",
    "## Gaussian Addition\n",
    "This challenge is inspired by a story about the mathematician Carl Frederich Gauss. [As the story goes](http://mathforum.org/library/drmath/view/57919.html), when young Gauss was in grade school his teacher got mad at his class one day.\n",
    "\n",
    "\"I'll keep the lot of you busy for a while\", the teacher said sternly to the group. \"You are to add the numbers from 1 to 100, and you are not to say a word until you are done.\"\n",
    "\n",
    "The teacher expected a good period of quiet time, but a moment later our mathematician-to-be raised his hand with the answer. \"It's 5050!\" Gauss had realized that if you list all the numbers from 1 to 100, you can always match the first and last numbers in the list and get a common answer:\n",
    "\n",
    "    1, 2, 3, ..., 98, 99, 100\n",
    "    1 + 100 = 101\n",
    "    2 + 99 = 101\n",
    "    3 + 98 = 101\n",
    "\n",
    "Gauss realized there were exactly 50 pairs of numbers in the range 1 to 100, so he did a quick calculation: 50 * 101 = 5050.\n",
    "\n",
    "- Write a program that uses a list of numbers .\n",
    "    - should use a while loop to keep popping the first and last numbers from the list and calculate the sum of those two numbers.\n",
    "    - should print out the current numbers that are being added, and print their partial sum.\n",
    "    - should keep track of how many partial sums there are.\n",
    "    - should then print out how many partial sums there were.\n",
    "    - should perform Gauss' multiplication, and report the final answer.\n",
    "\n",
    "- Your function should work for any set of consecutive numbers, as long as that set has an even length.\n",
    "- Bonus: Modify your function so that it works for any set of consecutive numbers, whether that set has an even or odd length."
   ]
  },
  {
   "cell_type": "markdown",
   "metadata": {},
   "source": [
    "# Calcular el tipo efectivo del IRPF\n",
    "El usuario introducirá su sueldo, y el programa debe calcular el total de impuestos a pagar, y el tipo efectivo de IRPF.\n",
    "\n",
    "<img src=\"tramos-irpf-2019.png\" width=\"400\" height=\"250\">"
   ]
  },
  {
   "cell_type": "code",
   "execution_count": null,
   "metadata": {},
   "outputs": [],
   "source": []
  },
  {
   "cell_type": "markdown",
   "metadata": {},
   "source": [
    "## Escribir un programa que pida dos números al usuario, y le presente al usuario un menú con al menos 3 opciones de operaciones matemáticas sobre esos dos números"
   ]
  },
  {
   "cell_type": "code",
   "execution_count": null,
   "metadata": {},
   "outputs": [],
   "source": []
  }
 ],
 "metadata": {
  "kernelspec": {
   "display_name": "Python 3",
   "language": "python",
   "name": "python3"
  },
  "language_info": {
   "codemirror_mode": {
    "name": "ipython",
    "version": 3
   },
   "file_extension": ".py",
   "mimetype": "text/x-python",
   "name": "python",
   "nbconvert_exporter": "python",
   "pygments_lexer": "ipython3",
   "version": "3.6.9"
  }
 },
 "nbformat": 4,
 "nbformat_minor": 4
}
