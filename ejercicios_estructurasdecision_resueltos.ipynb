{
 "cells": [
  {
   "cell_type": "markdown",
   "metadata": {},
   "source": [
    "### Escribir un programa que resuelva la ecuacción de segundo grado, comprobando que el discriminante sea positivo. En caso de que no lo sea, se informará al usuario que no se puede realizar la resolución\n"
   ]
  },
  {
   "cell_type": "code",
   "execution_count": 26,
   "metadata": {},
   "outputs": [
    {
     "name": "stdout",
     "output_type": "stream",
     "text": [
      "This program finds the real solutions to a quadratic\n",
      "\n"
     ]
    },
    {
     "name": "stdin",
     "output_type": "stream",
     "text": [
      "Enter coefficient a:  1\n",
      "Enter coefficient b:  -1\n",
      "Enter coefficient c:  -6\n"
     ]
    },
    {
     "name": "stdout",
     "output_type": "stream",
     "text": [
      "\n",
      "The solutions are: (3.000) (-2.000)\n"
     ]
    }
   ],
   "source": [
    "import math  # Makes the math library available.\n",
    "\n",
    "print(\"This program finds the real solutions to a quadratic\")\n",
    "print()\n",
    "\n",
    "a = float(input(\"Enter coefficient a: \"))\n",
    "b = float(input(\"Enter coefficient b: \"))\n",
    "c = float(input(\"Enter coefficient c: \"))\n",
    "\n",
    "disc = (b * b - 4 * a * c)\n",
    "if disc > 0:\n",
    "    discRoot = math.sqrt(b * b - 4 * a * c)\n",
    "    root1 = (-b + discRoot) / (2 * a)\n",
    "    root2 = (-b - discRoot) / (2 * a)\n",
    "\n",
    "    print()\n",
    "    print(\"The solutions are: (%.3f)\" %root1, \"(%.3f)\" %root2 )\n",
    "\n",
    "else:\n",
    "    print(\"La solución no pertenece a los numeros reales porque el discriminate es negativo \")"
   ]
  },
  {
   "cell_type": "markdown",
   "metadata": {},
   "source": [
    "### Calcular la media de los valores de una lista. El usuario debe introducir datos numérios, y se le seguirá presentando el prompt hasta que la entrada sea un 0"
   ]
  },
  {
   "cell_type": "code",
   "execution_count": 10,
   "metadata": {},
   "outputs": [
    {
     "name": "stdin",
     "output_type": "stream",
     "text": [
      "Introduce números para calcular la media. Para finalizar introduce 0  1\n",
      "Introduce números para calcular la media. Para finalizar introduce 0  24\n",
      "Introduce números para calcular la media. Para finalizar introduce 0  5\n",
      "Introduce números para calcular la media. Para finalizar introduce 0  6\n",
      "Introduce números para calcular la media. Para finalizar introduce 0  7\n",
      "Introduce números para calcular la media. Para finalizar introduce 0  8\n",
      "Introduce números para calcular la media. Para finalizar introduce 0  9\n",
      "Introduce números para calcular la media. Para finalizar introduce 0  0\n"
     ]
    },
    {
     "name": "stdout",
     "output_type": "stream",
     "text": [
      "[1, 24, 5, 6, 7, 8, 9]\n",
      "\n",
      "The average of the numbers is 8.571428571428571\n"
     ]
    }
   ],
   "source": [
    "new_number = int(input(\"Introduce números para calcular la media. Para finalizar introduce 0 \"))\n",
    "x = [] \n",
    "\n",
    "while new_number!= 0:\n",
    "    x.append(new_number)\n",
    "    new_number = int(input(\"Introduce números para calcular la media. Para finalizar introduce 0 \"))\n",
    "\n",
    "print(x)\n",
    "print(\"\\nThe average of the numbers is\", sum(x)/len(x))\n"
   ]
  },
  {
   "cell_type": "markdown",
   "metadata": {},
   "source": [
    "### Escribir un programa en python que devuelva la palabra mas corta y mas larga de un string con una frase\n"
   ]
  },
  {
   "cell_type": "code",
   "execution_count": 8,
   "metadata": {},
   "outputs": [
    {
     "name": "stdin",
     "output_type": "stream",
     "text": [
      "introduce una secuencia de palabras separadas por espacios hola como estas\n"
     ]
    },
    {
     "name": "stdout",
     "output_type": "stream",
     "text": [
      "el programa encontrará la palabra más corta y más larga \n",
      " \n",
      "['hola', 'como', 'estas']\n",
      "La plalabra mas corta es: hola y la mas larga: estas\n"
     ]
    }
   ],
   "source": [
    "original_string = input(\"introduce una secuencia de palabras separadas por espacios\")\n",
    "\n",
    "print(\"el programa encontrará la palabra más corta y más larga \\n \" )\n",
    "\n",
    "lista_de_palabras = original_string.split()\n",
    "print(lista_de_palabras)\n",
    "\n",
    "small = large = lista_de_palabras[0]\n",
    "\n",
    "\n",
    "for k in range(len(lista_de_palabras)):\n",
    "    if (len(small) > len(lista_de_palabras[k])):\n",
    "        small = lista_de_palabras[k]\n",
    "    if (len(large) < len(lista_de_palabras[k])):\n",
    "        large = lista_de_palabras[k]  \n",
    "        \n",
    "print(\"La plalabra mas corta es:\",small,\"y la mas larga:\",large)\n",
    "        \n",
    "\n"
   ]
  },
  {
   "cell_type": "markdown",
   "metadata": {},
   "source": [
    "## Interactuando con listas\n",
    "\n",
    "From given list gadgets = [“Mobile”, “Laptop”, 100, “Camera”, 310.28, “Speakers”, 27.00,\n",
    "“Television”, 1000, “Laptop Case”, “Camera Lens”]\n",
    "\n",
    "a)create separate lists of strings and numbers.\n",
    " \n",
    "b)Sort the strings list in ascending order\n",
    " \n",
    "c)Sort the strings list in descending order\n",
    " \n",
    "d)Sort the number list from lowest to highest\n",
    " \n",
    "e)Sort the number list from highest to lowest"
   ]
  },
  {
   "cell_type": "code",
   "execution_count": 6,
   "metadata": {},
   "outputs": [
    {
     "name": "stdout",
     "output_type": "stream",
     "text": [
      "['Mobile', 'Laptop', 'Camera', 'Speakers', 'Television', 'Laptop Case', 'Camera Lens']\n",
      "[100, 310.28, 27.0, 1000]\n",
      "b)sorting strings list in ascending order, a-z\n",
      "['Camera', 'Camera Lens', 'Laptop', 'Laptop Case', 'Mobile', 'Speakers', 'Television']\n",
      "sorting strings list in descending order z-a\n",
      "['Television', 'Speakers', 'Mobile', 'Laptop Case', 'Laptop', 'Camera Lens', 'Camera']\n",
      "[27.0, 100, 310.28, 1000]\n",
      "[1000, 310.28, 100, 27.0]\n"
     ]
    }
   ],
   "source": [
    "gadgets = [\"Mobile\", \"Laptop\", 100, \"Camera\", 310.28, \"Speakers\", 27.00, \n",
    "           \"Television\", 1000, \"Laptop Case\", \"Camera Lens\"]\n",
    " \n",
    "str_items = []\n",
    " \n",
    "num_items = []\n",
    " \n",
    "#a)creating separate lists\n",
    "\n",
    "for item in gadgets: \n",
    "     \n",
    "    if type(item) is str:\n",
    "         \n",
    "        str_items.append(item)\n",
    "         \n",
    "    elif type(item) is int or type(item) is float:\n",
    "         \n",
    "        num_items.append(item)\n",
    " \n",
    "  \n",
    "print(str_items)\n",
    " \n",
    "print(num_items)\n",
    " \n",
    "print ('b)sorting strings list in ascending order, a-z')\n",
    " \n",
    "str_items.sort(key=str.lower)\n",
    " \n",
    "print(str_items)\n",
    " \n",
    " \n",
    "print ('sorting strings list in descending order z-a')\n",
    " \n",
    "# str_items.sort(key=str.lower, reverse=True)\n",
    "\n",
    "str_items.sort(reverse=True)\n",
    "\n",
    "print(str_items)\n",
    " \n",
    " \n",
    "#d)sorting number list from lowest to highest\n",
    " \n",
    "num_items.sort()\n",
    " \n",
    "print(num_items)\n",
    " \n",
    " \n",
    "#e)sorting number list from highest to lowest\n",
    " \n",
    "num_items.sort(reverse=True)\n",
    " \n",
    "print(num_items)"
   ]
  },
  {
   "cell_type": "markdown",
   "metadata": {},
   "source": [
    "# programar una ordenación de una lista utilizando el algoritmo bubble sort"
   ]
  },
  {
   "cell_type": "code",
   "execution_count": 36,
   "metadata": {},
   "outputs": [
    {
     "name": "stdout",
     "output_type": "stream",
     "text": [
      "8\n",
      "7\n",
      "6\n",
      "5\n",
      "4\n",
      "3\n",
      "2\n",
      "1\n",
      "[14, 21, 27, 41, 43, 45, 46, 57, 70]\n"
     ]
    }
   ],
   "source": [
    "nlist = [14,46,43,27,57,41,45,21,70]\n",
    "\n",
    "for passnum in range(len(nlist)-1,0,-1):\n",
    "    print(passnum)  \n",
    "    for i in range(passnum):\n",
    "        if nlist[i]>nlist[i+1]:\n",
    "            nlist[i],nlist[i+1] = nlist[i+1],nlist[i]\n",
    "            \n",
    "print(nlist)"
   ]
  },
  {
   "cell_type": "markdown",
   "metadata": {},
   "source": [
    "\n",
    "## Gaussian Addition\n",
    "This challenge is inspired by a story about the mathematician Carl Frederich Gauss. [As the story goes](http://mathforum.org/library/drmath/view/57919.html), when young Gauss was in grade school his teacher got mad at his class one day.\n",
    "\n",
    "\"I'll keep the lot of you busy for a while\", the teacher said sternly to the group. \"You are to add the numbers from 1 to 100, and you are not to say a word until you are done.\"\n",
    "\n",
    "The teacher expected a good period of quiet time, but a moment later our mathematician-to-be raised his hand with the answer. \"It's 5050!\" Gauss had realized that if you list all the numbers from 1 to 100, you can always match the first and last numbers in the list and get a common answer:\n",
    "\n",
    "    1, 2, 3, ..., 98, 99, 100\n",
    "    1 + 100 = 101\n",
    "    2 + 99 = 101\n",
    "    3 + 98 = 101\n",
    "\n",
    "Gauss realized there were exactly 50 pairs of numbers in the range 1 to 100, so he did a quick calculation: 50 * 101 = 5050.\n",
    "\n",
    "- Write a program that uses a list of numbers .\n",
    "    - should use a while loop to keep popping the first and last numbers from the list and calculate the sum of those two numbers.\n",
    "    - should print out the current numbers that are being added, and print their partial sum.\n",
    "    - should keep track of how many partial sums there are.\n",
    "    - should then print out how many partial sums there were.\n",
    "    - should perform Gauss' multiplication, and report the final answer.\n",
    "\n",
    "- Your function should work for any set of consecutive numbers, as long as that set has an even length.\n",
    "- Bonus: Modify your function so that it works for any set of consecutive numbers, whether that set has an even or odd length."
   ]
  },
  {
   "cell_type": "code",
   "execution_count": 45,
   "metadata": {},
   "outputs": [
    {
     "name": "stdout",
     "output_type": "stream",
     "text": [
      "5151\n",
      "101 + 1 = 102\n",
      "100 + 2 = 102\n",
      "99 + 3 = 102\n",
      "98 + 4 = 102\n",
      "97 + 5 = 102\n",
      "96 + 6 = 102\n",
      "95 + 7 = 102\n",
      "94 + 8 = 102\n",
      "93 + 9 = 102\n",
      "92 + 10 = 102\n",
      "91 + 11 = 102\n",
      "90 + 12 = 102\n",
      "89 + 13 = 102\n",
      "88 + 14 = 102\n",
      "87 + 15 = 102\n",
      "86 + 16 = 102\n",
      "85 + 17 = 102\n",
      "84 + 18 = 102\n",
      "83 + 19 = 102\n",
      "82 + 20 = 102\n",
      "81 + 21 = 102\n",
      "80 + 22 = 102\n",
      "79 + 23 = 102\n",
      "78 + 24 = 102\n",
      "77 + 25 = 102\n",
      "76 + 26 = 102\n",
      "75 + 27 = 102\n",
      "74 + 28 = 102\n",
      "73 + 29 = 102\n",
      "72 + 30 = 102\n",
      "71 + 31 = 102\n",
      "70 + 32 = 102\n",
      "69 + 33 = 102\n",
      "68 + 34 = 102\n",
      "67 + 35 = 102\n",
      "66 + 36 = 102\n",
      "65 + 37 = 102\n",
      "64 + 38 = 102\n",
      "63 + 39 = 102\n",
      "62 + 40 = 102\n",
      "61 + 41 = 102\n",
      "60 + 42 = 102\n",
      "59 + 43 = 102\n",
      "58 + 44 = 102\n",
      "57 + 45 = 102\n",
      "56 + 46 = 102\n",
      "55 + 47 = 102\n",
      "54 + 48 = 102\n",
      "53 + 49 = 102\n",
      "52 + 50 = 102\n",
      "5151\n"
     ]
    }
   ],
   "source": [
    "#gaussian multiplication\n",
    "\n",
    "lista = list(range(1,102))\n",
    "counter = 0\n",
    "ultimo = 0\n",
    "print(sum(lista))\n",
    "\n",
    "if (len(lista) % 2) == 0:\n",
    "    while len(lista)>0:\n",
    "        numero1= lista.pop(-1)\n",
    "        numero2= lista.pop(0)\n",
    "        suma = numero1+numero2\n",
    "        counter +=1\n",
    "        print(numero1,\"+\",numero2,\"=\",suma); \n",
    "else:\n",
    "    while len(lista)>2:\n",
    "        numero1= lista.pop(-1)\n",
    "        numero2= lista.pop(0)\n",
    "        suma = numero1+numero2\n",
    "        counter +=1\n",
    "        print(numero1,\"+\",numero2,\"=\",suma)\n",
    "        ultimo = lista[0]\n",
    "        \n",
    "    \n",
    "suma_gaus = suma*counter+ ultimo\n",
    "print(suma_gaus)\n",
    "    "
   ]
  },
  {
   "cell_type": "code",
   "execution_count": null,
   "metadata": {},
   "outputs": [],
   "source": []
  }
 ],
 "metadata": {
  "kernelspec": {
   "display_name": "Python 3",
   "language": "python",
   "name": "python3"
  },
  "language_info": {
   "codemirror_mode": {
    "name": "ipython",
    "version": 3
   },
   "file_extension": ".py",
   "mimetype": "text/x-python",
   "name": "python",
   "nbconvert_exporter": "python",
   "pygments_lexer": "ipython3",
   "version": "3.6.9"
  }
 },
 "nbformat": 4,
 "nbformat_minor": 4
}
